{
 "cells": [
  {
   "cell_type": "code",
   "execution_count": 1,
   "id": "4b742909",
   "metadata": {},
   "outputs": [],
   "source": [
    "#IMPOERTING BUILT IN LIBRARIES\n",
    "import os\n",
    "import time\n",
    "import subprocess\n",
    "import json"
   ]
  },
  {
   "cell_type": "code",
   "execution_count": 2,
   "id": "5c2fa1e4",
   "metadata": {},
   "outputs": [],
   "source": [
    "#IMPORTING LIBRARIES INSTALLED FROM ANACONDA PROMPT\n",
    "import wolframalpha\n",
    "import requests\n",
    "import webbrowser\n",
    "import wikipedia\n",
    "import datetime"
   ]
  },
  {
   "cell_type": "code",
   "execution_count": 3,
   "id": "84ac57a5",
   "metadata": {},
   "outputs": [
    {
     "name": "stdout",
     "output_type": "stream",
     "text": [
      "pygame 2.5.1 (SDL 2.28.2, Python 3.11.5)\n",
      "Hello from the pygame community. https://www.pygame.org/contribute.html\n"
     ]
    }
   ],
   "source": [
    "#LIBRARIES FOR NATURAL LANGUAGE PROCESSING AND SPEECH TO TEXT CONVERSION\n",
    "import speech_recognition as sr\n",
    "import pyttsx3\n",
    "import pyaudio\n",
    "import instaloader\n",
    "import pygame"
   ]
  },
  {
   "cell_type": "code",
   "execution_count": 4,
   "id": "bf7d6ad8",
   "metadata": {},
   "outputs": [
    {
     "name": "stdout",
     "output_type": "stream",
     "text": [
      "LOADING YOUR PERSONAL AI ASSISTANT JARVIS\n"
     ]
    }
   ],
   "source": [
    "print('LOADING YOUR PERSONAL AI ASSISTANT JARVIS')"
   ]
  },
  {
   "cell_type": "code",
   "execution_count": 5,
   "id": "8670dde4",
   "metadata": {},
   "outputs": [],
   "source": [
    "#INITIATING YOUR pyttsx3 ENGINE WITH SPEECH SYNTHESIZERS\n",
    "engine = pyttsx3.init('sapi5')\n",
    "voices = engine.getProperty('voices')\n",
    "engine.setProperty('voice',voices[1].id)"
   ]
  },
  {
   "cell_type": "code",
   "execution_count": 6,
   "id": "f729e19c",
   "metadata": {},
   "outputs": [],
   "source": [
    "#DEFINING A FUNCTION FOR SPEAKING A SENTENCE\n",
    "def speak(text):\n",
    "    engine.say(text)\n",
    "    engine.runAndWait()\n",
    "    "
   ]
  },
  {
   "cell_type": "code",
   "execution_count": 7,
   "id": "6eaf2453",
   "metadata": {},
   "outputs": [],
   "source": [
    "#FUNCTION TO GREET A HUMAN\n",
    "def wishme():\n",
    "    hour = datetime.datetime.now().hour\n",
    "    if hour>=0 and hour < 12:\n",
    "        speak(\"hello, good morning Ms. Aishwarya\")\n",
    "        print(\"hello, good morning Ms. Aishwarya\")\n",
    "    elif hour > 12 and hour < 18:\n",
    "        speak(\"hello, good afternoon Ms. Aishwarya\")\n",
    "        print(\"hello, good afternoon Ms. Aishwarya\")\n",
    "    elif hour > 18 and hour < 19:\n",
    "        speak(\"Time to have Tea!\")\n",
    "        print(\"Time to have Tea!\")\n",
    "    else:\n",
    "        speak(\"go sleep\")\n",
    "        print(\"go sleep\")\n",
    "        \n",
    "        "
   ]
  },
  {
   "cell_type": "code",
   "execution_count": 8,
   "id": "8d44eb89",
   "metadata": {},
   "outputs": [],
   "source": [
    "def takecommand():\n",
    "    r=sr.Recognizer()\n",
    "    with sr.Microphone() as source:\n",
    "        print(\"I am listening\")\n",
    "        audio=r.listen(source)\n",
    "        try:\n",
    "            statement=r.recognize_google(audio,language='en-in')\n",
    "            print(f\"user said:{statement}\\n\")\n",
    "        except Exception as e:\n",
    "            speak(\"pardon me,please say that again\")\n",
    "            return \"None\"\n",
    "        return statement"
   ]
  },
  {
   "cell_type": "code",
   "execution_count": 9,
   "id": "364ad905",
   "metadata": {},
   "outputs": [
    {
     "name": "stdout",
     "output_type": "stream",
     "text": [
      "hello, good morning Ms. Aishwarya\n"
     ]
    }
   ],
   "source": [
    "speak(\"LOADING YOUR PERSONAL AI ASSISTANT JARVIS\")\n",
    "wishme()"
   ]
  },
  {
   "cell_type": "code",
   "execution_count": null,
   "id": "444f1181",
   "metadata": {},
   "outputs": [
    {
     "name": "stdout",
     "output_type": "stream",
     "text": [
      "I am listening\n",
      "user said:open Google\n",
      "\n",
      "I am listening\n",
      "user said:how are you who are you bike who are you\n",
      "\n",
      "I am listening\n",
      "user said:what's the time now open Aishwarya Rai\n",
      "\n",
      "I am listening\n",
      "user said:what's the time now\n",
      "\n",
      "I am listening\n",
      "user said:11 pass 24 weather weather space weather\n",
      "\n",
      "I am listening\n",
      "the temperature in kelvin units  is288.18\n",
      "humidity in percentage is90\n",
      " weather descriptionclear sky\n",
      "I am listening\n",
      "user said:logo\n",
      "\n",
      "I am listening\n",
      "user said:shut down shut down\n",
      "\n",
      "I am listening\n"
     ]
    }
   ],
   "source": [
    "#A SIMPLIFIED MAIN FUNCTION\n",
    "#ADD YOUR CODE BLOCKS HERE TO UPGRADE THIS PERSONAL ASSISTANT \n",
    "if __name__ == '__main__':\n",
    "    while True:\n",
    "        speak(\"How can I help you?\")\n",
    "        statement = takecommand().lower()\n",
    "        if statement==0:\n",
    "            continue\n",
    "        if \"good bye\" in statement or \"ok bye\" in statement or \"stop\" in statement:\n",
    "            speak(\"Your personal AI assistant Jarvis is shutting down, Good bye\")\n",
    "            print(\"Your personal AI assistant Jarvis is shutting down, Good bye\")\n",
    "            break\n",
    "        if \"wikipedia\" in statement:\n",
    "            speak(\"Searching wikipedia....\")\n",
    "            statement=statement.replace(\"wikipedia\",\"\")\n",
    "            results=wikipedia.summary(statement, sentences=3)\n",
    "            speak(\"According to wikipedia..\")\n",
    "            print(results)\n",
    "            speak(results)\n",
    "        elif \"open youtube\" in statement:\n",
    "            webbrowser.open_new_tab(\"https://www.youtube.com\")\n",
    "            speak(\"Youtube is open for you\")\n",
    "            time.sleep(5)\n",
    "        elif \"open google\" in statement:\n",
    "            webbrowser.open_new_tab(\"https://www.google.com\")\n",
    "            speak(\"Google search is open for you\")\n",
    "            time.sleep(5)\n",
    "        elif \"open gmail\" in statement:\n",
    "            webbrowser.open_new_tab(\"gmail.com\")\n",
    "            speak(\"your gmail is open for you\")\n",
    "            time.sleep(5)\n",
    "        elif \"weather\" in statement:\n",
    "            api_key=\"8ef61edcf1c576d65d836254e11ea420\"\n",
    "            base_url=\"https://api.openweathermap.org/data/2.5/weather?\"\n",
    "            speak(\"what is the city name\")\n",
    "            city_name=takecommand()\n",
    "            complete_url=base_url+\"appid=\"+api_key+\"&q=\"+city_name\n",
    "            response=requests.get(complete_url)\n",
    "            x=response.json()\n",
    "            if x[\"cod\"]!=\"404\":\n",
    "                y=x.get(\"main\",\"default_value\")\n",
    "                current_temperature=y[\"temp\"]\n",
    "                current_humidity=y[\"humidity\"]\n",
    "                z=x[\"weather\"]\n",
    "                weather_description=z[0][\"description\"]\n",
    "                speak(\"the temperature in kelvin units  is\" + str(current_temperature)) \n",
    "                speak(\"humidity in percentage is\" + str(current_humidity))\n",
    "                speak(\" weather description\" + str(weather_description))\n",
    "                print(\"the temperature in kelvin units  is\" + str(current_temperature)) \n",
    "                print(\"humidity in percentage is\" + str(current_humidity))\n",
    "                print(\" weather description\" + str(weather_description))\n",
    "            else:\n",
    "                speak(\"city not found\")\n",
    "                print(\"city not found\")\n",
    "        elif \"time\" in statement:\n",
    "            strTime= datetime.datetime.now().strftime(\"%H:%M:%S\")\n",
    "            speak(f\"the time is {strTime}\")\n",
    "        elif \"who are you\" in statement or \"what can you do\" in statement:\n",
    "            speak('I am Jarvis 1 point 0 your personal assistant.I am programmed to minor tasks like'\n",
    "                  'opening youtube,google chrome,gmail and stack overflow,predict time,take a photo,search wikipedia,predict weather'\n",
    "                  'in different cities,get top headline news from times of India and you can ask me computational or geographical questions too!')\n",
    "        elif \"who made you\" in statement or \"who created you\" in statement or \"who discovered you\" in statement:\n",
    "            speak(\"I was built by Ai robosoft\")\n",
    "            print(\"I was built by Ai robosoft\")\n",
    "                  \n",
    "        elif \"open stack overflow\" in statement:\n",
    "            webbrowser.open_new_tab(\"https://stackoverflow.com/login\")\n",
    "            speak(\"stack overflow is open for you\")\n",
    "            time.sleep(5)\n",
    "        elif \"news\" in statement:\n",
    "            news = webbrowser.open_new_tab(\"https://timesofindia.indiatimes.com/home/headlines\")\n",
    "            speak(\"Here are some headlines from times of India - happy reading\")\n",
    "            time.sleep(7)\n",
    "        elif \"search\" in statement:\n",
    "            statement=statement.replace(\"search\",\" \")\n",
    "            webbrowser.open_new_tab(\"statement\")\n",
    "            time.sleep(5)\n",
    "       \n",
    "\n",
    "        elif \"log off\" in statement or \"sign out\" in statement or \"shut down\" in statement:\n",
    "            speak(\"ok, your pc will shut down in 10 seconds- make sure you have saved and exit from all applications\")\n",
    "            subprocess.call(['shutdown',\"/1\"])\n",
    "time.sleep(3)\n",
    "                  \n",
    "                  "
   ]
  },
  {
   "cell_type": "code",
   "execution_count": null,
   "id": "bddb2538-2074-4ae8-ad3f-d75d41ca0bb6",
   "metadata": {},
   "outputs": [],
   "source": []
  }
 ],
 "metadata": {
  "kernelspec": {
   "display_name": "Python 3 (ipykernel)",
   "language": "python",
   "name": "python3"
  },
  "language_info": {
   "codemirror_mode": {
    "name": "ipython",
    "version": 3
   },
   "file_extension": ".py",
   "mimetype": "text/x-python",
   "name": "python",
   "nbconvert_exporter": "python",
   "pygments_lexer": "ipython3",
   "version": "3.11.5"
  }
 },
 "nbformat": 4,
 "nbformat_minor": 5
}
